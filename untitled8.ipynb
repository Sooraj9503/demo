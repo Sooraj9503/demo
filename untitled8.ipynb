{
  "nbformat": 4,
  "nbformat_minor": 0,
  "metadata": {
    "colab": {
      "provenance": [],
      "toc_visible": true,
      "gpuType": "T4",
      "authorship_tag": "ABX9TyMvwiAuGka3lj3+BLKSwCyH",
      "include_colab_link": true
    },
    "kernelspec": {
      "name": "python3",
      "display_name": "Python 3"
    },
    "language_info": {
      "name": "python"
    },
    "accelerator": "GPU"
  },
  "cells": [
    {
      "cell_type": "markdown",
      "metadata": {
        "id": "view-in-github",
        "colab_type": "text"
      },
      "source": [
        "<a href=\"https://colab.research.google.com/github/Sooraj9503/demo/blob/main/untitled8.ipynb\" target=\"_parent\"><img src=\"https://colab.research.google.com/assets/colab-badge.svg\" alt=\"Open In Colab\"/></a>"
      ]
    },
    {
      "cell_type": "code",
      "source": [
        "%%writefile prog.cu\n",
        "#include <stdio.h>\n",
        "#include <cuda_runtime.h>\n",
        "\n",
        "__global__ void hello() {\n",
        "    printf(\"Hello, World from GPU!\\n\");\n",
        "}\n",
        "\n",
        "int main() {\n",
        "    hello<<<1,1>>>();\n",
        "    cudaDeviceSynchronize();\n",
        "    return 0;\n",
        "}"
      ],
      "metadata": {
        "colab": {
          "base_uri": "https://localhost:8080/"
        },
        "id": "yPJmVvEKPicd",
        "outputId": "b026f469-0777-48f3-fead-6eac819a97c3"
      },
      "execution_count": null,
      "outputs": [
        {
          "output_type": "stream",
          "name": "stdout",
          "text": [
            "Overwriting prog.cu\n"
          ]
        }
      ]
    },
    {
      "cell_type": "code",
      "source": [
        "!nvcc -o prog prog.cu"
      ],
      "metadata": {
        "id": "WOJewn_UPkUl"
      },
      "execution_count": null,
      "outputs": []
    },
    {
      "cell_type": "code",
      "source": [
        "!./prog"
      ],
      "metadata": {
        "colab": {
          "base_uri": "https://localhost:8080/"
        },
        "id": "zDU35qxpPqkm",
        "outputId": "969437ac-9b34-41e4-9e7f-3ceef6813971"
      },
      "execution_count": null,
      "outputs": [
        {
          "output_type": "stream",
          "name": "stdout",
          "text": [
            "Hello, World from GPU!\n"
          ]
        }
      ]
    },
    {
      "cell_type": "code",
      "source": [
        "%%writefile prog.cu\n",
        "#include <stdio.h>\n",
        "#include <cuda_runtime.h>\n",
        "\n",
        "__global__ void device()\n",
        "{\n",
        "  printf(\"Hello from GPU\\n\");\n",
        "}\n",
        "void cpu()\n",
        "{\n",
        "  printf(\"Hello from CPU\\n\");\n",
        "}\n",
        "\n",
        "int main()\n",
        "{\n",
        "  device<<<1,1>>>();\n",
        "  device<<<1,1>>>();\n",
        "  device<<<1,1>>>();\n",
        "\n",
        "  cpu();\n",
        "  cpu();\n",
        "  cpu();\n",
        "\n",
        "  cudaDeviceSynchronize();\n",
        "\n",
        "  return 0;\n",
        "}\n"
      ],
      "metadata": {
        "colab": {
          "base_uri": "https://localhost:8080/"
        },
        "id": "H6V2B-8kipQ2",
        "outputId": "ad333d73-40e8-4dea-e556-ae21437fb45b"
      },
      "execution_count": null,
      "outputs": [
        {
          "output_type": "stream",
          "name": "stdout",
          "text": [
            "Overwriting prog.cu\n"
          ]
        }
      ]
    },
    {
      "cell_type": "code",
      "source": [
        "!nvcc -o prog prog.cu"
      ],
      "metadata": {
        "id": "Ro7Pg7ayjt2n"
      },
      "execution_count": null,
      "outputs": []
    },
    {
      "cell_type": "code",
      "source": [
        "!./prog"
      ],
      "metadata": {
        "colab": {
          "base_uri": "https://localhost:8080/"
        },
        "id": "JxQ3iPrBj8CO",
        "outputId": "6d2b9a02-f39d-425f-d32b-283d675d584a"
      },
      "execution_count": null,
      "outputs": [
        {
          "output_type": "stream",
          "name": "stdout",
          "text": [
            "Hello from CPU\n",
            "Hello from CPU\n",
            "Hello from CPU\n",
            "Hello from GPU\n",
            "Hello from GPU\n",
            "Hello from GPU\n"
          ]
        }
      ]
    },
    {
      "cell_type": "code",
      "source": [
        "%%writefile prog.cu\n",
        "#include<cuda_runtime.h>\n",
        "#include<stdio.h>\n",
        "\n",
        "__global__ void device()\n",
        "{\n",
        "  printf(\"Hello from GPU\\n\");\n",
        "}\n",
        "void cpu()\n",
        "{\n",
        "  printf(\"Hello from CPU\\n\");\n",
        "}\n",
        "\n",
        "int main()\n",
        "{\n",
        "  device<<<1,5>>>();\n",
        "  cudaDeviceSynchronize();\n",
        "  cpu();\n",
        "\n",
        "\n",
        "  return 0;\n",
        "}"
      ],
      "metadata": {
        "colab": {
          "base_uri": "https://localhost:8080/"
        },
        "id": "_Ik8KNynmWY5",
        "outputId": "f283eed0-6dd1-4a1a-9c25-9aa5b4c278dd"
      },
      "execution_count": null,
      "outputs": [
        {
          "output_type": "stream",
          "name": "stdout",
          "text": [
            "Overwriting prog.cu\n"
          ]
        }
      ]
    },
    {
      "cell_type": "code",
      "source": [
        "!nvcc prog.cu"
      ],
      "metadata": {
        "id": "BBv7YefjnQLB"
      },
      "execution_count": null,
      "outputs": []
    },
    {
      "cell_type": "code",
      "source": [
        "!./a.out"
      ],
      "metadata": {
        "colab": {
          "base_uri": "https://localhost:8080/"
        },
        "id": "NKUd451Snaga",
        "outputId": "ea8d324a-3d31-4eb1-9dd4-e39134ad8f55"
      },
      "execution_count": null,
      "outputs": [
        {
          "output_type": "stream",
          "name": "stdout",
          "text": [
            "Hello from GPU\n",
            "Hello from GPU\n",
            "Hello from GPU\n",
            "Hello from GPU\n",
            "Hello from GPU\n",
            "Hello from CPU\n"
          ]
        }
      ]
    }
  ]
}