{
  "nbformat": 4,
  "nbformat_minor": 0,
  "metadata": {
    "colab": {
      "provenance": [],
      "gpuType": "T4",
      "authorship_tag": "ABX9TyNR0Qv60xL/D9cwxAHobz5M",
      "include_colab_link": true
    },
    "kernelspec": {
      "name": "python3",
      "display_name": "Python 3"
    },
    "language_info": {
      "name": "python"
    },
    "accelerator": "GPU"
  },
  "cells": [
    {
      "cell_type": "markdown",
      "metadata": {
        "id": "view-in-github",
        "colab_type": "text"
      },
      "source": [
        "<a href=\"https://colab.research.google.com/github/Sooraj9503/demo/blob/main/Untitled8.ipynb\" target=\"_parent\"><img src=\"https://colab.research.google.com/assets/colab-badge.svg\" alt=\"Open In Colab\"/></a>"
      ]
    },
    {
      "cell_type": "code",
      "source": [
        "%%writefile prog.cu\n",
        "#include <stdio.h>\n",
        "#include <cuda_runtime.h>\n",
        "\n",
        "__global__ void hello() {\n",
        "    printf(\"Hello, World from GPU!\\n\");\n",
        "}\n",
        "\n",
        "int main() {\n",
        "    hello<<<1,1>>>();\n",
        "    cudaDeviceSynchronize();\n",
        "    return 0;\n",
        "}"
      ],
      "metadata": {
        "colab": {
          "base_uri": "https://localhost:8080/"
        },
        "id": "yPJmVvEKPicd",
        "outputId": "f4510b20-ca01-493b-9573-8706873b3ced"
      },
      "execution_count": 1,
      "outputs": [
        {
          "output_type": "stream",
          "name": "stdout",
          "text": [
            "Writing prog.cu\n"
          ]
        }
      ]
    },
    {
      "cell_type": "code",
      "source": [
        "!nvcc -o prog prog.cu"
      ],
      "metadata": {
        "id": "WOJewn_UPkUl"
      },
      "execution_count": 2,
      "outputs": []
    },
    {
      "cell_type": "code",
      "source": [
        "!./prog"
      ],
      "metadata": {
        "colab": {
          "base_uri": "https://localhost:8080/"
        },
        "id": "zDU35qxpPqkm",
        "outputId": "d5654013-8025-4be8-b4cc-d74edf3a30de"
      },
      "execution_count": 3,
      "outputs": [
        {
          "output_type": "stream",
          "name": "stdout",
          "text": [
            "Hello, World from GPU!\n"
          ]
        }
      ]
    },
    {
      "cell_type": "code",
      "source": [
        "%%writefile prog.cu\n",
        "#include <stdio.h>\n",
        "#include <cuda_runtime.h>\n",
        "\n",
        "__global__ void device()\n",
        "{\n",
        "  printf(\"Hello from GPU\\n\");\n",
        "}\n",
        "void cpu()\n",
        "{\n",
        "  printf(\"Hello from CPU\\n\");\n",
        "}\n",
        "\n",
        "int main()\n",
        "{\n",
        "  device<<<1,1>>>();\n",
        "  device<<<1,1>>>();\n",
        "  device<<<1,1>>>();\n",
        "\n",
        "  cpu();\n",
        "  cpu();\n",
        "  cpu();\n",
        "\n",
        "  cudaDeviceSynchronize();\n",
        "\n",
        "  return 0;\n",
        "}\n"
      ],
      "metadata": {
        "colab": {
          "base_uri": "https://localhost:8080/"
        },
        "id": "H6V2B-8kipQ2",
        "outputId": "7893e193-d2db-42a4-faf2-6a4e2a3ec392"
      },
      "execution_count": 15,
      "outputs": [
        {
          "output_type": "stream",
          "name": "stdout",
          "text": [
            "Overwriting prog.cu\n"
          ]
        }
      ]
    },
    {
      "cell_type": "code",
      "source": [
        "!nvcc -o prog prog.cu"
      ],
      "metadata": {
        "id": "Ro7Pg7ayjt2n"
      },
      "execution_count": 16,
      "outputs": []
    },
    {
      "cell_type": "code",
      "source": [
        "!./prog"
      ],
      "metadata": {
        "colab": {
          "base_uri": "https://localhost:8080/"
        },
        "id": "JxQ3iPrBj8CO",
        "outputId": "2204c4ed-ac4d-4d00-8f61-5ca9fefe40eb"
      },
      "execution_count": 17,
      "outputs": [
        {
          "output_type": "stream",
          "name": "stdout",
          "text": [
            "Hello from CPU\n",
            "Hello from CPU\n",
            "Hello from CPU\n",
            "Hello from GPU\n",
            "Hello from GPU\n",
            "Hello from GPU\n"
          ]
        }
      ]
    }
  ]
}